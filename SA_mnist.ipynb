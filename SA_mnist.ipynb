{
  "nbformat": 4,
  "nbformat_minor": 0,
  "metadata": {
    "colab": {
      "name": "SA_mnist.ipynb",
      "provenance": []
    },
    "kernelspec": {
      "name": "python3",
      "display_name": "Python 3"
    },
    "language_info": {
      "name": "python"
    }
  },
  "cells": [
    {
      "cell_type": "code",
      "metadata": {
        "id": "UxlGZ4RZ73XZ"
      },
      "source": [
        "from sklearn.datasets import fetch_openml\n",
        "import numpy as np\n",
        "import matplotlib.pyplot as plt"
      ],
      "execution_count": null,
      "outputs": []
    },
    {
      "cell_type": "code",
      "metadata": {
        "id": "SEDtQVt98gCU"
      },
      "source": [
        "mnist = fetch_openml(\"mnist_784\")"
      ],
      "execution_count": null,
      "outputs": []
    },
    {
      "cell_type": "markdown",
      "metadata": {
        "id": "7XtI6dh__v74"
      },
      "source": [
        "## Analizar data"
      ]
    },
    {
      "cell_type": "code",
      "metadata": {
        "colab": {
          "base_uri": "https://localhost:8080/"
        },
        "id": "X9pqdNJI85GY",
        "outputId": "6c80519d-bb58-4e25-86b4-2dc0ca5eead7"
      },
      "source": [
        "mnist.keys()"
      ],
      "execution_count": null,
      "outputs": [
        {
          "output_type": "execute_result",
          "data": {
            "text/plain": [
              "dict_keys(['data', 'target', 'frame', 'feature_names', 'target_names', 'DESCR', 'details', 'categories', 'url'])"
            ]
          },
          "metadata": {},
          "execution_count": 5
        }
      ]
    },
    {
      "cell_type": "code",
      "metadata": {
        "colab": {
          "base_uri": "https://localhost:8080/"
        },
        "id": "m1xyq7Lu9gHa",
        "outputId": "7fb04c86-cc9b-437e-f5e1-fc2179554b37"
      },
      "source": [
        "mnist['data'].shape"
      ],
      "execution_count": null,
      "outputs": [
        {
          "output_type": "execute_result",
          "data": {
            "text/plain": [
              "(70000, 784)"
            ]
          },
          "metadata": {},
          "execution_count": 7
        }
      ]
    },
    {
      "cell_type": "code",
      "metadata": {
        "colab": {
          "base_uri": "https://localhost:8080/"
        },
        "id": "oozzIOgD9kyY",
        "outputId": "cc23156f-eb42-4fc4-8f44-a21873b5fdec"
      },
      "source": [
        "mnist['target'].shape"
      ],
      "execution_count": null,
      "outputs": [
        {
          "output_type": "execute_result",
          "data": {
            "text/plain": [
              "(70000,)"
            ]
          },
          "metadata": {},
          "execution_count": 8
        }
      ]
    },
    {
      "cell_type": "code",
      "metadata": {
        "colab": {
          "base_uri": "https://localhost:8080/"
        },
        "id": "ltPqTuoS_FXL",
        "outputId": "bde4f4a5-8e56-4a4d-aeeb-c2d418c28fa0"
      },
      "source": [
        "image = mnist['data'][0,:]   # Extrae la primera imagen (fila 1)\n",
        "mnist['data'][0,:].shape"
      ],
      "execution_count": null,
      "outputs": [
        {
          "output_type": "execute_result",
          "data": {
            "text/plain": [
              "(784,)"
            ]
          },
          "metadata": {},
          "execution_count": 15
        }
      ]
    },
    {
      "cell_type": "code",
      "metadata": {
        "id": "gjspGwLw_RSE"
      },
      "source": [
        "image = image.reshape(28, 28)  # Cambia la forma del array a 28x28"
      ],
      "execution_count": null,
      "outputs": []
    },
    {
      "cell_type": "code",
      "metadata": {
        "colab": {
          "base_uri": "https://localhost:8080/",
          "height": 285
        },
        "id": "q3KafHFLArw3",
        "outputId": "24cbdcc0-387e-4dce-f203-360152010833"
      },
      "source": [
        "plt.figure(figsize=(8,4))\n",
        "plt.imshow(image, cmap = 'gray')\n",
        "plt.title(f\"target = {mnist['target'][0]}\", size = 18)\n",
        "plt.show()"
      ],
      "execution_count": null,
      "outputs": [
        {
          "output_type": "display_data",
          "data": {
            "image/png": "[encoded data removed]",
            "text/plain": [
              "<Figure size 576x288 with 1 Axes>"
            ]
          },
          "metadata": {
            "needs_background": "light"
          }
        }
      ]
    },
    {
      "cell_type": "code",
      "metadata": {
        "colab": {
          "base_uri": "https://localhost:8080/",
          "height": 260
        },
        "id": "HVOLWdKMBMXd",
        "outputId": "4b82859d-b250-4c74-f19d-37e44c9ca086"
      },
      "source": [
        "# Muestra 5 imagenes aleatorias\n",
        "idx = np.random.randint(mnist['data'].shape[0]-5)\n",
        "plt.figure(figsize=(20,4)) \n",
        "for index, (image, label) in enumerate(zip(mnist['data'][idx:idx+5], mnist['target'][idx:idx+5])):  \n",
        "   plt.subplot(1,5,index + 1)\n",
        "   plt.title(f\"target: {label}\", size = 18)\n",
        "   plt.imshow(image.reshape(28,28), cmap = 'gray')"
      ],
      "execution_count": null,
      "outputs": [
        {
          "output_type": "display_data",
          "data": {
            "image/png": "[encoded data removed]",
            "text/plain": [
              "<Figure size 1440x288 with 5 Axes>"
            ]
          },
          "metadata": {
            "needs_background": "light"
          }
        }
      ]
    },
    {
      "cell_type": "code",
      "metadata": {
        "colab": {
          "base_uri": "https://localhost:8080/"
        },
        "id": "VizAV4PhEXE-",
        "outputId": "5b967c74-3207-4095-af54-c8c32fb8d859"
      },
      "source": [
        "np.max(mnist['data'][11])     # El valor de cada pixel va de 0-255"
      ],
      "execution_count": null,
      "outputs": [
        {
          "output_type": "execute_result",
          "data": {
            "text/plain": [
              "255.0"
            ]
          },
          "metadata": {},
          "execution_count": 49
        }
      ]
    },
    {
      "cell_type": "markdown",
      "metadata": {
        "id": "xZjmGDwKE4OP"
      },
      "source": [
        "## Aplicar Logistic Regression"
      ]
    },
    {
      "cell_type": "code",
      "metadata": {
        "id": "E6e_cM8g9ott"
      },
      "source": [
        "from sklearn.model_selection import train_test_split\n",
        "X_train, X_test, y_train, y_test = train_test_split(mnist['data'], mnist['target'], test_size=0.2, random_state=0)"
      ],
      "execution_count": null,
      "outputs": []
    },
    {
      "cell_type": "code",
      "metadata": {
        "colab": {
          "base_uri": "https://localhost:8080/"
        },
        "id": "Yfepouv09z61",
        "outputId": "d99d0696-356c-4a6d-ff10-f0aae76acdea"
      },
      "source": [
        "X_train.shape, X_test.shape, y_train.shape, y_test.shape"
      ],
      "execution_count": null,
      "outputs": [
        {
          "output_type": "execute_result",
          "data": {
            "text/plain": [
              "((56000, 784), (14000, 784), (56000,), (14000,))"
            ]
          },
          "metadata": {},
          "execution_count": 50
        }
      ]
    },
    {
      "cell_type": "code",
      "metadata": {
        "id": "N4wd7xW2FIFz"
      },
      "source": [
        "from sklearn.linear_model import LogisticRegression"
      ],
      "execution_count": null,
      "outputs": []
    },
    {
      "cell_type": "code",
      "metadata": {
        "id": "6qac5pahFKXi"
      },
      "source": [
        "modelo = LogisticRegression()"
      ],
      "execution_count": null,
      "outputs": []
    },
    {
      "cell_type": "code",
      "metadata": {
        "colab": {
          "base_uri": "https://localhost:8080/"
        },
        "id": "Ums7kunpFSiG",
        "outputId": "b58cd2b9-e900-47e1-82d6-a8e370d86111"
      },
      "source": [
        "modelo.fit(X_train, y_train)"
      ],
      "execution_count": null,
      "outputs": [
        {
          "output_type": "stream",
          "name": "stderr",
          "text": [
            "/usr/local/lib/python3.7/dist-packages/sklearn/linear_model/_logistic.py:940: ConvergenceWarning: lbfgs failed to converge (status=1):\n",
            "STOP: TOTAL NO. of ITERATIONS REACHED LIMIT.\n",
            "\n",
            "Increase the number of iterations (max_iter) or scale the data as shown in:\n",
            "    https://scikit-learn.org/stable/modules/preprocessing.html\n",
            "Please also refer to the documentation for alternative solver options:\n",
            "    https://scikit-learn.org/stable/modules/linear_model.html#logistic-regression\n",
            "  extra_warning_msg=_LOGISTIC_SOLVER_CONVERGENCE_MSG)\n"
          ]
        },
        {
          "output_type": "execute_result",
          "data": {
            "text/plain": [
              "LogisticRegression(C=1.0, class_weight=None, dual=False, fit_intercept=True,\n",
              "                   intercept_scaling=1, l1_ratio=None, max_iter=100,\n",
              "                   multi_class='auto', n_jobs=None, penalty='l2',\n",
              "                   random_state=None, solver='lbfgs', tol=0.0001, verbose=0,\n",
              "                   warm_start=False)"
            ]
          },
          "metadata": {},
          "execution_count": 53
        }
      ]
    },
    {
      "cell_type": "markdown",
      "metadata": {
        "id": "ruDQVGU2F4CN"
      },
      "source": [
        "#### Predecir las primeras 10 imagenes"
      ]
    },
    {
      "cell_type": "code",
      "metadata": {
        "colab": {
          "base_uri": "https://localhost:8080/"
        },
        "id": "i-UQmlQyFuNG",
        "outputId": "a5f6fb57-8085-4aab-cd8c-524ca2fe4cb2"
      },
      "source": [
        "X_test[:10].shape"
      ],
      "execution_count": null,
      "outputs": [
        {
          "output_type": "execute_result",
          "data": {
            "text/plain": [
              "(10, 784)"
            ]
          },
          "metadata": {},
          "execution_count": 54
        }
      ]
    },
    {
      "cell_type": "code",
      "metadata": {
        "colab": {
          "base_uri": "https://localhost:8080/"
        },
        "id": "cdpV4qnuGF2m",
        "outputId": "823d3977-6eaf-4636-9d42-fa54595eed5e"
      },
      "source": [
        "modelo.predict(X_test[:10])       # El clasificador se equivocó en predecir 7 en vez de 4 y 9 en vez de 7"
      ],
      "execution_count": null,
      "outputs": [
        {
          "output_type": "execute_result",
          "data": {
            "text/plain": [
              "array(['0', '4', '1', '2', '4', '7', '7', '1', '1', '7'], dtype=object)"
            ]
          },
          "metadata": {},
          "execution_count": 56
        }
      ]
    },
    {
      "cell_type": "code",
      "metadata": {
        "colab": {
          "base_uri": "https://localhost:8080/"
        },
        "id": "JGdVkEdxGHTU",
        "outputId": "01d6dd6c-2f0c-4e49-f4e1-ffac6b7b51ac"
      },
      "source": [
        "y_test[:10]  "
      ],
      "execution_count": null,
      "outputs": [
        {
          "output_type": "execute_result",
          "data": {
            "text/plain": [
              "array(['0', '4', '1', '2', '7', '9', '7', '1', '1', '7'], dtype=object)"
            ]
          },
          "metadata": {},
          "execution_count": 57
        }
      ]
    },
    {
      "cell_type": "markdown",
      "metadata": {
        "id": "zroXlI_OGm7e"
      },
      "source": [
        "## Precision del clasificador"
      ]
    },
    {
      "cell_type": "code",
      "metadata": {
        "colab": {
          "base_uri": "https://localhost:8080/"
        },
        "id": "sj2Z0dFeF289",
        "outputId": "20ccab00-a3f1-48c0-9177-9a52daceed99"
      },
      "source": [
        "score = modelo.score(X_test, y_test)  \n",
        "score"
      ],
      "execution_count": null,
      "outputs": [
        {
          "output_type": "execute_result",
          "data": {
            "text/plain": [
              "0.9172142857142858"
            ]
          },
          "metadata": {},
          "execution_count": 59
        }
      ]
    },
    {
      "cell_type": "code",
      "metadata": {
        "id": "rsX3XsB8G0Bu"
      },
      "source": [
        "from sklearn.metrics import confusion_matrix"
      ],
      "execution_count": null,
      "outputs": []
    },
    {
      "cell_type": "code",
      "metadata": {
        "id": "8-hRniYbG4D-"
      },
      "source": [
        "y_pred = modelo.predict(X_test)\n",
        "cm = confusion_matrix(y_test, y_pred)"
      ],
      "execution_count": null,
      "outputs": []
    },
    {
      "cell_type": "code",
      "metadata": {
        "id": "wR56CM2tG-AN"
      },
      "source": [
        "import seaborn as sbn"
      ],
      "execution_count": null,
      "outputs": []
    },
    {
      "cell_type": "code",
      "metadata": {
        "colab": {
          "base_uri": "https://localhost:8080/",
          "height": 689
        },
        "id": "u2p4PetEHF52",
        "outputId": "d80c393a-19e2-46fc-f4e0-17971d1cc33c"
      },
      "source": [
        "plt.figure(figsize=(12,12))\n",
        "sbn.heatmap(cm, annot = True, linewidths = .5, square = True);\n",
        "plt.xlabel('Predicted', size = 15)                                       # El eje x son los predichos\n",
        "plt.ylabel('True', size = 15)                                            # El eje y seran los valores verdaderos\n",
        "plt.title(f'Accuracy Score: {np.round(100*score,1)}%', size = 15)\n",
        "plt.show()"
      ],
      "execution_count": null,
      "outputs": [
        {
          "output_type": "display_data",
          "data": {
            "image/png": "[encoded data removed]",
            "text/plain": [
              "<Figure size 864x864 with 2 Axes>"
            ]
          },
          "metadata": {
            "needs_background": "light"
          }
        }
      ]
    }
  ]
}