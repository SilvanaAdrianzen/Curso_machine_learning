{
  "nbformat": 4,
  "nbformat_minor": 0,
  "metadata": {
    "colab": {
      "name": "lr_mnist.ipynb",
      "provenance": [],
      "collapsed_sections": []
    },
    "kernelspec": {
      "display_name": "Python 3",
      "name": "python3"
    },
    "language_info": {
      "name": "python"
    }
  },
  "cells": [
    {
      "cell_type": "code",
      "metadata": {
        "id": "UxlGZ4RZ73XZ"
      },
      "source": [
        "from sklearn.datasets import fetch_openml\n",
        "import numpy as np\n",
        "import matplotlib.pyplot as plt"
      ],
      "execution_count": null,
      "outputs": []
    },
    {
      "cell_type": "code",
      "metadata": {
        "id": "SEDtQVt98gCU"
      },
      "source": [
        "mnist = fetch_openml(\"mnist_784\")"
      ],
      "execution_count": null,
      "outputs": []
    },
    {
      "cell_type": "markdown",
      "metadata": {
        "id": "7XtI6dh__v74"
      },
      "source": [
        "## Analizar data"
      ]
    },
    {
      "cell_type": "code",
      "metadata": {
        "colab": {
          "base_uri": "https://localhost:8080/"
        },
        "id": "X9pqdNJI85GY",
        "outputId": "1d3a346a-7ef4-4014-fea7-b34de93a2f06"
      },
      "source": [
        "mnist.keys()"
      ],
      "execution_count": null,
      "outputs": [
        {
          "output_type": "execute_result",
          "data": {
            "text/plain": [
              "dict_keys(['data', 'target', 'frame', 'feature_names', 'target_names', 'DESCR', 'details', 'categories', 'url'])"
            ]
          },
          "metadata": {},
          "execution_count": 19
        }
      ]
    },
    {
      "cell_type": "code",
      "metadata": {
        "colab": {
          "base_uri": "https://localhost:8080/"
        },
        "id": "m1xyq7Lu9gHa",
        "outputId": "37fe944f-9fc1-4d71-e5f8-9207e7e979f4"
      },
      "source": [
        "mnist['data'].shape"
      ],
      "execution_count": null,
      "outputs": [
        {
          "output_type": "execute_result",
          "data": {
            "text/plain": [
              "(70000, 784)"
            ]
          },
          "metadata": {},
          "execution_count": 20
        }
      ]
    },
    {
      "cell_type": "code",
      "metadata": {
        "colab": {
          "base_uri": "https://localhost:8080/"
        },
        "id": "oozzIOgD9kyY",
        "outputId": "822afd5b-652c-413e-ec38-601f419247d6"
      },
      "source": [
        "mnist['target'].shape"
      ],
      "execution_count": null,
      "outputs": [
        {
          "output_type": "execute_result",
          "data": {
            "text/plain": [
              "(70000,)"
            ]
          },
          "metadata": {},
          "execution_count": 21
        }
      ]
    },
    {
      "cell_type": "code",
      "metadata": {
        "colab": {
          "base_uri": "https://localhost:8080/"
        },
        "id": "ltPqTuoS_FXL",
        "outputId": "a5a67b6e-9308-4a60-ab3d-8a223471bffe"
      },
      "source": [
        "image = mnist['data'][0,:]   # Extrae la primera imagen (fila 1)\n",
        "mnist['data'][0,:].shape"
      ],
      "execution_count": null,
      "outputs": [
        {
          "output_type": "execute_result",
          "data": {
            "text/plain": [
              "(784,)"
            ]
          },
          "metadata": {},
          "execution_count": 22
        }
      ]
    },
    {
      "cell_type": "code",
      "metadata": {
        "id": "gjspGwLw_RSE"
      },
      "source": [
        "image = image.reshape(28, 28)  # Cambia la forma del array a 28x28"
      ],
      "execution_count": null,
      "outputs": []
    },
    {
      "cell_type": "code",
      "metadata": {
        "colab": {
          "base_uri": "https://localhost:8080/",
          "height": 285
        },
        "id": "q3KafHFLArw3",
        "outputId": "11690aba-819c-42ac-b7a9-c4a4d8bd879e"
      },
      "source": [
        "plt.figure(figsize=(8,4))\n",
        "plt.imshow(image, cmap = 'gray')\n",
        "plt.title(f\"target = {mnist['target'][0]}\", size = 18)\n",
        "plt.show()"
      ],
      "execution_count": null,
      "outputs": [
        {
          "output_type": "display_data",
          "data": {
            "image/png": "[encoded data removed]",
            "text/plain": [
              "<Figure size 576x288 with 1 Axes>"
            ]
          },
          "metadata": {
            "needs_background": "light"
          }
        }
      ]
    },
    {
      "cell_type": "code",
      "metadata": {
        "colab": {
          "base_uri": "https://localhost:8080/",
          "height": 260
        },
        "id": "HVOLWdKMBMXd",
        "outputId": "63492749-788d-4085-a2ec-52f1758f9be8"
      },
      "source": [
        "# Muestra 5 imagenes aleatorias\n",
        "idx = np.random.randint(mnist['data'].shape[0]-5)\n",
        "plt.figure(figsize=(20,4)) \n",
        "for index, (image, label) in enumerate(zip(mnist['data'][idx:idx+5], mnist['target'][idx:idx+5])):  \n",
        "   plt.subplot(1,5,index + 1)\n",
        "   plt.title(f\"target: {label}\", size = 18)\n",
        "   plt.imshow(image.reshape(28,28), cmap = 'gray')"
      ],
      "execution_count": null,
      "outputs": [
        {
          "output_type": "display_data",
          "data": {
            "image/png": "[encoded data removed]",
            "text/plain": [
              "<Figure size 1440x288 with 5 Axes>"
            ]
          },
          "metadata": {
            "needs_background": "light"
          }
        }
      ]
    },
    {
      "cell_type": "code",
      "metadata": {
        "colab": {
          "base_uri": "https://localhost:8080/"
        },
        "id": "VizAV4PhEXE-",
        "outputId": "fa059079-fc20-40ea-e9b7-1562829ad8f3"
      },
      "source": [
        "np.max(mnist['data'][11])     # El valor de cada pixel va de 0-255"
      ],
      "execution_count": null,
      "outputs": [
        {
          "output_type": "execute_result",
          "data": {
            "text/plain": [
              "255.0"
            ]
          },
          "metadata": {},
          "execution_count": 26
        }
      ]
    },
    {
      "cell_type": "markdown",
      "metadata": {
        "id": "xZjmGDwKE4OP"
      },
      "source": [
        "## Aplicar Logistic Regression"
      ]
    },
    {
      "cell_type": "code",
      "metadata": {
        "id": "E6e_cM8g9ott"
      },
      "source": [
        "from sklearn.model_selection import train_test_split\n",
        "X_train, X_test, y_train, y_test = train_test_split(mnist['data'], mnist['target'], test_size=0.2, random_state=0)"
      ],
      "execution_count": null,
      "outputs": []
    },
    {
      "cell_type": "code",
      "metadata": {
        "colab": {
          "base_uri": "https://localhost:8080/"
        },
        "id": "Yfepouv09z61",
        "outputId": "9bcc1a50-2b90-4b9e-a86e-b6231fc71301"
      },
      "source": [
        "X_train.shape, X_test.shape, y_train.shape, y_test.shape"
      ],
      "execution_count": null,
      "outputs": [
        {
          "output_type": "execute_result",
          "data": {
            "text/plain": [
              "((56000, 784), (14000, 784), (56000,), (14000,))"
            ]
          },
          "metadata": {},
          "execution_count": 28
        }
      ]
    },
    {
      "cell_type": "code",
      "metadata": {
        "id": "N4wd7xW2FIFz"
      },
      "source": [
        "from sklearn.linear_model import LogisticRegression"
      ],
      "execution_count": null,
      "outputs": []
    },
    {
      "cell_type": "code",
      "metadata": {
        "id": "6qac5pahFKXi"
      },
      "source": [
        "modelo = LogisticRegression(solver = 'lbfgs',max_iter = 1000, verbose=1)"
      ],
      "execution_count": null,
      "outputs": []
    },
    {
      "cell_type": "code",
      "metadata": {
        "id": "Ums7kunpFSiG",
        "colab": {
          "base_uri": "https://localhost:8080/"
        },
        "outputId": "db078e63-21e2-4c48-9c85-92b9d820eca2"
      },
      "source": [
        "modelo.fit(X_train, y_train)"
      ],
      "execution_count": null,
      "outputs": [
        {
          "output_type": "stream",
          "name": "stderr",
          "text": [
            "[Parallel(n_jobs=1)]: Using backend SequentialBackend with 1 concurrent workers.\n",
            "/usr/local/lib/python3.7/dist-packages/sklearn/linear_model/_logistic.py:940: ConvergenceWarning: lbfgs failed to converge (status=1):\n",
            "STOP: TOTAL NO. of ITERATIONS REACHED LIMIT.\n",
            "\n",
            "Increase the number of iterations (max_iter) or scale the data as shown in:\n",
            "    https://scikit-learn.org/stable/modules/preprocessing.html\n",
            "Please also refer to the documentation for alternative solver options:\n",
            "    https://scikit-learn.org/stable/modules/linear_model.html#logistic-regression\n",
            "  extra_warning_msg=_LOGISTIC_SOLVER_CONVERGENCE_MSG)\n",
            "[Parallel(n_jobs=1)]: Done   1 out of   1 | elapsed:  4.7min finished\n"
          ]
        },
        {
          "output_type": "execute_result",
          "data": {
            "text/plain": [
              "LogisticRegression(C=1.0, class_weight=None, dual=False, fit_intercept=True,\n",
              "                   intercept_scaling=1, l1_ratio=None, max_iter=1000,\n",
              "                   multi_class='auto', n_jobs=None, penalty='l2',\n",
              "                   random_state=None, solver='lbfgs', tol=0.0001, verbose=1,\n",
              "                   warm_start=False)"
            ]
          },
          "metadata": {},
          "execution_count": 33
        }
      ]
    },
    {
      "cell_type": "markdown",
      "metadata": {
        "id": "ruDQVGU2F4CN"
      },
      "source": [
        "#### Predecir las primeras 10 imagenes"
      ]
    },
    {
      "cell_type": "code",
      "metadata": {
        "id": "i-UQmlQyFuNG",
        "colab": {
          "base_uri": "https://localhost:8080/"
        },
        "outputId": "6902fd6f-132c-4926-ab00-9fe7bf174a8c"
      },
      "source": [
        "X_test[:10].shape"
      ],
      "execution_count": null,
      "outputs": [
        {
          "output_type": "execute_result",
          "data": {
            "text/plain": [
              "(10, 784)"
            ]
          },
          "metadata": {},
          "execution_count": 34
        }
      ]
    },
    {
      "cell_type": "code",
      "metadata": {
        "id": "cdpV4qnuGF2m",
        "colab": {
          "base_uri": "https://localhost:8080/"
        },
        "outputId": "82957084-1a49-41fa-930d-1e69a9b6aef2"
      },
      "source": [
        "modelo.predict(X_test[:10])       # El clasificador se equivocó en predecir 7 en vez de 4 y 9 en vez de 7"
      ],
      "execution_count": null,
      "outputs": [
        {
          "output_type": "execute_result",
          "data": {
            "text/plain": [
              "array(['0', '4', '1', '2', '4', '9', '7', '1', '1', '3'], dtype=object)"
            ]
          },
          "metadata": {},
          "execution_count": 35
        }
      ]
    },
    {
      "cell_type": "code",
      "metadata": {
        "id": "JGdVkEdxGHTU",
        "colab": {
          "base_uri": "https://localhost:8080/"
        },
        "outputId": "dade1a11-a60f-4fde-bc41-85c03437f7f0"
      },
      "source": [
        "y_test[:10]  "
      ],
      "execution_count": null,
      "outputs": [
        {
          "output_type": "execute_result",
          "data": {
            "text/plain": [
              "array(['0', '4', '1', '2', '7', '9', '7', '1', '1', '7'], dtype=object)"
            ]
          },
          "metadata": {},
          "execution_count": 36
        }
      ]
    },
    {
      "cell_type": "markdown",
      "metadata": {
        "id": "zroXlI_OGm7e"
      },
      "source": [
        "## Precision del clasificador"
      ]
    },
    {
      "cell_type": "code",
      "metadata": {
        "id": "sj2Z0dFeF289",
        "colab": {
          "base_uri": "https://localhost:8080/"
        },
        "outputId": "afb5fe48-b32f-4e35-eb84-be90084639f0"
      },
      "source": [
        "score = modelo.score(X_test, y_test)    # Con 100 iteraciones la precision no varió mucho: 0.9172142857142858\n",
        "score"
      ],
      "execution_count": null,
      "outputs": [
        {
          "output_type": "execute_result",
          "data": {
            "text/plain": [
              "0.9109285714285714"
            ]
          },
          "metadata": {},
          "execution_count": 37
        }
      ]
    },
    {
      "cell_type": "code",
      "metadata": {
        "id": "rsX3XsB8G0Bu"
      },
      "source": [
        "from sklearn.metrics import confusion_matrix"
      ],
      "execution_count": null,
      "outputs": []
    },
    {
      "cell_type": "code",
      "metadata": {
        "id": "8-hRniYbG4D-"
      },
      "source": [
        "y_pred = modelo.predict(X_test)\n",
        "cm = confusion_matrix(y_test, y_pred)"
      ],
      "execution_count": null,
      "outputs": []
    },
    {
      "cell_type": "code",
      "metadata": {
        "id": "wR56CM2tG-AN"
      },
      "source": [
        "import seaborn as sbn"
      ],
      "execution_count": null,
      "outputs": []
    },
    {
      "cell_type": "code",
      "metadata": {
        "id": "u2p4PetEHF52",
        "colab": {
          "base_uri": "https://localhost:8080/",
          "height": 689
        },
        "outputId": "fedb9f5b-76d2-4d03-8511-78c2c6597af2"
      },
      "source": [
        "plt.figure(figsize=(12,12))\n",
        "sbn.heatmap(cm, annot = True, linewidths = .5, square = True);\n",
        "plt.xlabel('Predicted', size = 15)                                       # El eje x son los predichos\n",
        "plt.ylabel('True', size = 15)                                            # El eje y son los valores verdaderos\n",
        "plt.title(f'Accuracy Score: {np.round(100*score,1)}%', size = 15)\n",
        "plt.show()"
      ],
      "execution_count": null,
      "outputs": [
        {
          "output_type": "display_data",
          "data": {
            "image/png": "[encoded data removed]",
            "text/plain": [
              "<Figure size 864x864 with 2 Axes>"
            ]
          },
          "metadata": {
            "needs_background": "light"
          }
        }
      ]
    }
  ]
}